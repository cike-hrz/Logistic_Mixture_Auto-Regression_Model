{
 "cells": [
  {
   "cell_type": "code",
   "execution_count": 1,
   "id": "50b8b05e",
   "metadata": {},
   "outputs": [],
   "source": [
    "from futu import *\n",
    "import pandas as pd"
   ]
  },
  {
   "cell_type": "markdown",
   "id": "98bb1f20",
   "metadata": {},
   "source": [
    "---"
   ]
  },
  {
   "cell_type": "markdown",
   "id": "6faec9d8",
   "metadata": {},
   "source": [
    "# API鉴权与登录"
   ]
  },
  {
   "cell_type": "markdown",
   "id": "3a22592b",
   "metadata": {},
   "source": [
    "在终端相应的文件目录下使用命令行运行："
   ]
  },
  {
   "cell_type": "raw",
   "id": "6f05f74d",
   "metadata": {},
   "source": [
    "$ ./FutuOpenD"
   ]
  },
  {
   "cell_type": "markdown",
   "id": "607efe24",
   "metadata": {},
   "source": [
    "### 端口连接\n",
    "###### \\#注：完成相应查询后，记得执行“ quote_ctx.close() ”命令关闭端口连接，避免条数耗尽"
   ]
  },
  {
   "cell_type": "code",
   "execution_count": null,
   "id": "12cd2898",
   "metadata": {},
   "outputs": [],
   "source": [
    "quote_ctx = OpenQuoteContext(host='127.0.0.1', port=11111)"
   ]
  },
  {
   "cell_type": "markdown",
   "id": "96b9d269",
   "metadata": {},
   "source": [
    "# API函数接口调用"
   ]
  },
  {
   "cell_type": "markdown",
   "id": "c7bcdfb2",
   "metadata": {},
   "source": [
    "### 期权链条到期日查询\n",
    "-get_option_expiration_date( code : str )"
   ]
  },
  {
   "cell_type": "markdown",
   "id": "779c297e",
   "metadata": {},
   "source": [
    "通过标的股票查询期权链，返回尚未发生行权的期权的所有到期日。<br>\n",
    "输入的变量是特定港股的股票代码“code”(str)，<br>\n",
    "返回状态变量“ret”(bool)，有效期权数据“data”(pd.DataFrame)"
   ]
  },
  {
   "cell_type": "markdown",
   "id": "e34d962e",
   "metadata": {},
   "source": [
    "\\# 注：已经过期的期权数据无法通过该API的任何函数查到"
   ]
  },
  {
   "cell_type": "code",
   "execution_count": null,
   "id": "e02d9e04",
   "metadata": {},
   "outputs": [],
   "source": [
    "ret, data = quote_ctx.get_option_expiration_date(code='HK.00700')\n",
    "if ret == RET_OK:\n",
    "    print(data)\n",
    "else:\n",
    "    print('error:', data)\n",
    "#quote_ctx.close()"
   ]
  },
  {
   "cell_type": "markdown",
   "id": "4735fa65",
   "metadata": {},
   "source": [
    "### 期权链全链信息查询\n",
    "-get_option_chain( code :str,  start :str,  end :str,  data_filter :OptionDataFilter )"
   ]
  },
  {
   "cell_type": "markdown",
   "id": "08ba7aa9",
   "metadata": {},
   "source": [
    "通过标的股票查询期权链，但是此接口函数仅返回期权链的静态信息，如需获取报价<br>\n",
    "或摆盘等动态信息，就应该直接使用获取历史K线数据的函数，只需要将输入的代码<br>\n",
    "改成由此函数或“期权链条到期日”函数返回数据的“期权代码”即可。<br>\n",
    "\n",
    "输入的变量是特定港股的股票代码“code”(str)，起止日期都为“到期日”(str)，期权属性筛选器(class)<br>\n",
    "返回状态变量“ret”(bool)，有效期权数据“data”(pd.DataFrame)"
   ]
  },
  {
   "cell_type": "markdown",
   "id": "f1052055",
   "metadata": {},
   "source": [
    "\\#注：每 30 秒内最多请求 10 次获取期权链接口<br>\n",
    "\\#注：OptionDataFilter类的属性细节参考：<br>\n",
    "https://openapi.futunn.com/futu-api-doc/quote/get-option-chain.html<br>"
   ]
  },
  {
   "cell_type": "code",
   "execution_count": null,
   "id": "4bb46271",
   "metadata": {},
   "outputs": [],
   "source": [
    "option_valid_ret, option_valid_data = quote_ctx.get_option_expiration_date(code='HK.00700')\n",
    "\n",
    "filter1 = OptionDataFilter()\n",
    "filter1.delta_min = 0\n",
    "filter1.delta_max = 0.1\n",
    "\n",
    "if option_valid_ret == RET_OK:\n",
    "    expiration_date_list = option_valid_data['strike_time'].values.tolist()\n",
    "    for date in expiration_date_list:\n",
    "        ret, data = quote_ctx.get_option_chain(code  = 'HK.00700', \n",
    "                                               start = date, \n",
    "                                               end   = date, \n",
    "                                               data_filter = filter1)\n",
    "        if ret == RET_OK:\n",
    "            print(data)\n",
    "        else:\n",
    "            print('error:', data)\n",
    "        time.sleep(3)\n",
    "else:\n",
    "    print('error:', option_valid_data)\n",
    "#quote_ctx.close()"
   ]
  },
  {
   "cell_type": "markdown",
   "id": "3a87f3fc",
   "metadata": {},
   "source": [
    "### 历史K线数据(期权/股票/etc.)\n",
    "-request_history_kline( code :str, start: str, end :str, fields: list, max_count: int, page_req_key=None )"
   ]
  },
  {
   "cell_type": "markdown",
   "id": "8dea23b2",
   "metadata": {},
   "source": [
    "输入参数：<br>\n",
    "输入标的物代码“code”(str)如：'HK.00700'、'HK.ALB230530P80000'即可返回相应品种的历史数据<br>\n",
    "起止日期“start/end”(str)格式如：'2019-01-01'，返回数据的字段“fields”(tuple/list/str)<br>\n",
    "每次返回的pd.DataFrame的单页最大行数“max_count”(int)，分页请求“page_req_key”(str)<br>\n",
    "输出内容：<br>\n",
    "返回一个df，包括code, time_key, OCHL, pe_ratio, turnover_rate, volume, turnover<br>\n",
    "change_rate(涨跌幅), last_close(昨收价)。"
   ]
  },
  {
   "cell_type": "markdown",
   "id": "6ec00987",
   "metadata": {},
   "source": [
    "\\#注：分钟K线提供最近2年数据，日K及以上提供最近10年的数据；<br>\n",
    "\\#注：每30天内只能获取有限只股票的历史K线数据(当日消耗的历史K线额度，会在30天后自动释放)；<br>\n",
    "\\#注：每30秒内最多请求60次历史K线接口，若是“分页获取数据”则限频规则仅适用于每只股票的首页，后续页请求不受限频规则的限制。"
   ]
  },
  {
   "cell_type": "markdown",
   "id": "b41eeadd",
   "metadata": {},
   "source": [
    "### 股票数据"
   ]
  },
  {
   "cell_type": "code",
   "execution_count": null,
   "id": "37b65412",
   "metadata": {},
   "outputs": [],
   "source": [
    "# 单页最大数据量为1000,也即返回的pd.DataFrame最多有1000行，需要执行额外操作来得到完整数据\n",
    "ret, stock_data, page_req_key = quote_ctx.request_history_kline('HK.00700', \n",
    "                                                          start='2013-05-25', \n",
    "                                                          end='2023-05-25')\n",
    "if ret == RET_OK:\n",
    "    print(stock_data)\n",
    "else:\n",
    "    print('error:', stock_data)\n",
    "#quote_ctx.close()"
   ]
  },
  {
   "cell_type": "markdown",
   "id": "723cad64",
   "metadata": {},
   "source": [
    "##### 返回单个 pd.DataFrame 数据集"
   ]
  },
  {
   "cell_type": "code",
   "execution_count": 7,
   "id": "2ac273fa",
   "metadata": {},
   "outputs": [
    {
     "name": "stdout",
     "output_type": "stream",
     "text": [
      "*************************************\n",
      "*************************************\n",
      "All pages are finished!\n"
     ]
    }
   ],
   "source": [
    "ret, stock_data, page_req_key = quote_ctx.request_history_kline('HK.00700', \n",
    "                                                          start='2013-05-25', \n",
    "                                                          end='2023-05-25',\n",
    "                                                          max_count=1000)\n",
    "if ret == RET_OK:\n",
    "    data = stock_data\n",
    "else:\n",
    "    print('error:', data)\n",
    "while page_req_key != None:  # 请求后面的所有结果\n",
    "    print('*************************************')\n",
    "    ret, stock_data, page_req_key = quote_ctx.request_history_kline('HK.00700', \n",
    "                                                                    start='2013-05-25', \n",
    "                                                                    end='2023-05-25', \n",
    "                                                                    max_count=1000, \n",
    "                                                                    page_req_key=page_req_key) # 请求翻页后的数据\n",
    "    if ret == RET_OK:\n",
    "        data = pd.concat([data,stock_data],axis=0,ignore_index=True)\n",
    "    else:\n",
    "        print('error:', data)\n",
    "print('All pages are finished!')\n",
    "#quote_ctx.close()"
   ]
  },
  {
   "cell_type": "code",
   "execution_count": 8,
   "id": "a8b92f2e",
   "metadata": {},
   "outputs": [
    {
     "data": {
      "text/plain": [
       "<AxesSubplot:>"
      ]
     },
     "execution_count": 8,
     "metadata": {},
     "output_type": "execute_result"
    },
    {
     "data": {
      "image/png": "[encoded data removed]",
      "text/plain": [
       "<Figure size 432x288 with 1 Axes>"
      ]
     },
     "metadata": {
      "needs_background": "light"
     },
     "output_type": "display_data"
    }
   ],
   "source": [
    "data.close.plot()"
   ]
  },
  {
   "cell_type": "markdown",
   "id": "03aedb58",
   "metadata": {},
   "source": [
    "### 期权数据"
   ]
  },
  {
   "cell_type": "code",
   "execution_count": null,
   "id": "79e35109",
   "metadata": {},
   "outputs": [],
   "source": [
    "# 期权数据最早只能追溯到该期权的 “发行日期”\n",
    "ret, option_data, page_req_key = quote_ctx.request_history_kline('HK.ALB230530P80000', \n",
    "                                                          start='2013-05-25', \n",
    "                                                          end='2023-05-25')\n",
    "if ret == RET_OK:\n",
    "    print(option_data)\n",
    "else:\n",
    "    print('error:', option_data)\n",
    "quote_ctx.close()"
   ]
  },
  {
   "cell_type": "markdown",
   "id": "5e1d1a71",
   "metadata": {},
   "source": [
    "### 查看额度\n",
    "-get_history_kl_quota( get_detail : bool )<br>\n",
    "-query_subscription( is_all_conn : bool )"
   ]
  },
  {
   "cell_type": "code",
   "execution_count": null,
   "id": "2773e716",
   "metadata": {},
   "outputs": [],
   "source": [
    "# 历史K线额度查询\n",
    "ret, data = quote_ctx.get_history_kl_quota(get_detail=True)  # 设置 true 代表需要返回详细的拉取历史 K 线的记录\n",
    "if ret == RET_OK:\n",
    "    print(data)\n",
    "else:\n",
    "    print('error:', data)"
   ]
  },
  {
   "cell_type": "code",
   "execution_count": null,
   "id": "05745e83",
   "metadata": {},
   "outputs": [],
   "source": [
    "# 订阅剩余额度查询\n",
    "quote_ctx.query_subscription(is_all_conn=True)"
   ]
  }
 ],
 "metadata": {
  "kernelspec": {
   "display_name": "Python 3 (ipykernel)",
   "language": "python",
   "name": "python3"
  },
  "language_info": {
   "codemirror_mode": {
    "name": "ipython",
    "version": 3
   },
   "file_extension": ".py",
   "mimetype": "text/x-python",
   "name": "python",
   "nbconvert_exporter": "python",
   "pygments_lexer": "ipython3",
   "version": "3.9.7"
  }
 },
 "nbformat": 4,
 "nbformat_minor": 5
}
